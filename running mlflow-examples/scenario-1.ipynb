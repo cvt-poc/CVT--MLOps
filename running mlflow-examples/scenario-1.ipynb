{
 "cells": [
  {
   "cell_type": "code",
   "execution_count": null,
   "metadata": {},
   "outputs": [],
   "source": [
    "Scenario 1: A single data scientist participating in an ML competition"
   ]
  },
  {
   "cell_type": "markdown",
   "metadata": {},
   "source": [
    "MLflow setup:\n",
    "\n",
    "Tracking server: no\n",
    "Backend store: local filesystem\n",
    "Artifacts store: local filesystem\n",
    "The experiments can be explored locally by launching the MLflow UI."
   ]
  },
  {
   "cell_type": "code",
   "execution_count": 1,
   "metadata": {},
   "outputs": [
    {
     "name": "stdout",
     "output_type": "stream",
     "text": [
      "Python 3.9.19\n"
     ]
    }
   ],
   "source": [
    "!python -V "
   ]
  },
  {
   "cell_type": "code",
   "execution_count": 2,
   "metadata": {},
   "outputs": [],
   "source": [
    "import mlflow"
   ]
  },
  {
   "cell_type": "code",
   "execution_count": 3,
   "metadata": {},
   "outputs": [
    {
     "name": "stdout",
     "output_type": "stream",
     "text": [
      "tracking URI: 'file:///workspaces/CVT--MLOps/running%20mlflow-examples/mlruns'\n"
     ]
    }
   ],
   "source": [
    "print(f\"tracking URI: '{mlflow.get_tracking_uri()}'\")"
   ]
  },
  {
   "cell_type": "code",
   "execution_count": 4,
   "metadata": {},
   "outputs": [
    {
     "name": "stdout",
     "output_type": "stream",
     "text": [
      "2.16.0\n"
     ]
    }
   ],
   "source": [
    "import mlflow\n",
    "print(mlflow.__version__)\n"
   ]
  },
  {
   "cell_type": "code",
   "execution_count": 5,
   "metadata": {},
   "outputs": [
    {
     "name": "stdout",
     "output_type": "stream",
     "text": [
      "Requirement already satisfied: mlflow in /opt/conda/envs/mlflow-env/lib/python3.9/site-packages (2.16.0)\n",
      "Requirement already satisfied: mlflow-skinny==2.16.0 in /opt/conda/envs/mlflow-env/lib/python3.9/site-packages (from mlflow) (2.16.0)\n",
      "Requirement already satisfied: Flask<4 in /opt/conda/envs/mlflow-env/lib/python3.9/site-packages (from mlflow) (3.0.3)\n",
      "Requirement already satisfied: alembic!=1.10.0,<2 in /opt/conda/envs/mlflow-env/lib/python3.9/site-packages (from mlflow) (1.13.2)\n",
      "Requirement already satisfied: docker<8,>=4.0.0 in /opt/conda/envs/mlflow-env/lib/python3.9/site-packages (from mlflow) (7.1.0)\n",
      "Requirement already satisfied: graphene<4 in /opt/conda/envs/mlflow-env/lib/python3.9/site-packages (from mlflow) (3.3)\n",
      "Requirement already satisfied: markdown<4,>=3.3 in /opt/conda/envs/mlflow-env/lib/python3.9/site-packages (from mlflow) (3.7)\n",
      "Requirement already satisfied: matplotlib<4 in /opt/conda/envs/mlflow-env/lib/python3.9/site-packages (from mlflow) (3.9.2)\n",
      "Requirement already satisfied: numpy<3 in /opt/conda/envs/mlflow-env/lib/python3.9/site-packages (from mlflow) (2.0.2)\n",
      "Requirement already satisfied: pandas<3 in /opt/conda/envs/mlflow-env/lib/python3.9/site-packages (from mlflow) (2.2.2)\n",
      "Requirement already satisfied: pyarrow<18,>=4.0.0 in /opt/conda/envs/mlflow-env/lib/python3.9/site-packages (from mlflow) (17.0.0)\n",
      "Requirement already satisfied: scikit-learn<2 in /opt/conda/envs/mlflow-env/lib/python3.9/site-packages (from mlflow) (1.5.1)\n",
      "Requirement already satisfied: scipy<2 in /opt/conda/envs/mlflow-env/lib/python3.9/site-packages (from mlflow) (1.13.1)\n",
      "Requirement already satisfied: sqlalchemy<3,>=1.4.0 in /opt/conda/envs/mlflow-env/lib/python3.9/site-packages (from mlflow) (2.0.34)\n",
      "Requirement already satisfied: Jinja2<4,>=2.11 in /opt/conda/envs/mlflow-env/lib/python3.9/site-packages (from mlflow) (3.1.4)\n",
      "Requirement already satisfied: gunicorn<24 in /opt/conda/envs/mlflow-env/lib/python3.9/site-packages (from mlflow) (23.0.0)\n",
      "Requirement already satisfied: cachetools<6,>=5.0.0 in /opt/conda/envs/mlflow-env/lib/python3.9/site-packages (from mlflow-skinny==2.16.0->mlflow) (5.5.0)\n",
      "Requirement already satisfied: click<9,>=7.0 in /opt/conda/envs/mlflow-env/lib/python3.9/site-packages (from mlflow-skinny==2.16.0->mlflow) (8.1.7)\n",
      "Requirement already satisfied: cloudpickle<4 in /opt/conda/envs/mlflow-env/lib/python3.9/site-packages (from mlflow-skinny==2.16.0->mlflow) (3.0.0)\n",
      "Requirement already satisfied: databricks-sdk<1,>=0.20.0 in /opt/conda/envs/mlflow-env/lib/python3.9/site-packages (from mlflow-skinny==2.16.0->mlflow) (0.32.0)\n",
      "Requirement already satisfied: gitpython<4,>=3.1.9 in /opt/conda/envs/mlflow-env/lib/python3.9/site-packages (from mlflow-skinny==2.16.0->mlflow) (3.1.43)\n",
      "Requirement already satisfied: importlib-metadata!=4.7.0,<9,>=3.7.0 in /opt/conda/envs/mlflow-env/lib/python3.9/site-packages (from mlflow-skinny==2.16.0->mlflow) (8.4.0)\n",
      "Requirement already satisfied: opentelemetry-api<3,>=1.9.0 in /opt/conda/envs/mlflow-env/lib/python3.9/site-packages (from mlflow-skinny==2.16.0->mlflow) (1.27.0)\n",
      "Requirement already satisfied: opentelemetry-sdk<3,>=1.9.0 in /opt/conda/envs/mlflow-env/lib/python3.9/site-packages (from mlflow-skinny==2.16.0->mlflow) (1.27.0)\n",
      "Requirement already satisfied: packaging<25 in /opt/conda/envs/mlflow-env/lib/python3.9/site-packages (from mlflow-skinny==2.16.0->mlflow) (24.1)\n",
      "Requirement already satisfied: protobuf<6,>=3.12.0 in /opt/conda/envs/mlflow-env/lib/python3.9/site-packages (from mlflow-skinny==2.16.0->mlflow) (5.28.0)\n",
      "Requirement already satisfied: pyyaml<7,>=5.1 in /opt/conda/envs/mlflow-env/lib/python3.9/site-packages (from mlflow-skinny==2.16.0->mlflow) (6.0.2)\n",
      "Requirement already satisfied: requests<3,>=2.17.3 in /opt/conda/envs/mlflow-env/lib/python3.9/site-packages (from mlflow-skinny==2.16.0->mlflow) (2.32.3)\n",
      "Requirement already satisfied: sqlparse<1,>=0.4.0 in /opt/conda/envs/mlflow-env/lib/python3.9/site-packages (from mlflow-skinny==2.16.0->mlflow) (0.5.1)\n",
      "Requirement already satisfied: Mako in /opt/conda/envs/mlflow-env/lib/python3.9/site-packages (from alembic!=1.10.0,<2->mlflow) (1.3.5)\n",
      "Requirement already satisfied: typing-extensions>=4 in /opt/conda/envs/mlflow-env/lib/python3.9/site-packages (from alembic!=1.10.0,<2->mlflow) (4.12.2)\n",
      "Requirement already satisfied: urllib3>=1.26.0 in /opt/conda/envs/mlflow-env/lib/python3.9/site-packages (from docker<8,>=4.0.0->mlflow) (2.2.2)\n",
      "Requirement already satisfied: Werkzeug>=3.0.0 in /opt/conda/envs/mlflow-env/lib/python3.9/site-packages (from Flask<4->mlflow) (3.0.4)\n",
      "Requirement already satisfied: itsdangerous>=2.1.2 in /opt/conda/envs/mlflow-env/lib/python3.9/site-packages (from Flask<4->mlflow) (2.2.0)\n",
      "Requirement already satisfied: blinker>=1.6.2 in /opt/conda/envs/mlflow-env/lib/python3.9/site-packages (from Flask<4->mlflow) (1.8.2)\n",
      "Requirement already satisfied: graphql-core<3.3,>=3.1 in /opt/conda/envs/mlflow-env/lib/python3.9/site-packages (from graphene<4->mlflow) (3.2.4)\n",
      "Requirement already satisfied: graphql-relay<3.3,>=3.1 in /opt/conda/envs/mlflow-env/lib/python3.9/site-packages (from graphene<4->mlflow) (3.2.0)\n",
      "Requirement already satisfied: aniso8601<10,>=8 in /opt/conda/envs/mlflow-env/lib/python3.9/site-packages (from graphene<4->mlflow) (9.0.1)\n",
      "Requirement already satisfied: MarkupSafe>=2.0 in /opt/conda/envs/mlflow-env/lib/python3.9/site-packages (from Jinja2<4,>=2.11->mlflow) (2.1.5)\n",
      "Requirement already satisfied: contourpy>=1.0.1 in /opt/conda/envs/mlflow-env/lib/python3.9/site-packages (from matplotlib<4->mlflow) (1.3.0)\n",
      "Requirement already satisfied: cycler>=0.10 in /opt/conda/envs/mlflow-env/lib/python3.9/site-packages (from matplotlib<4->mlflow) (0.12.1)\n",
      "Requirement already satisfied: fonttools>=4.22.0 in /opt/conda/envs/mlflow-env/lib/python3.9/site-packages (from matplotlib<4->mlflow) (4.53.1)\n",
      "Requirement already satisfied: kiwisolver>=1.3.1 in /opt/conda/envs/mlflow-env/lib/python3.9/site-packages (from matplotlib<4->mlflow) (1.4.7)\n",
      "Requirement already satisfied: pillow>=8 in /opt/conda/envs/mlflow-env/lib/python3.9/site-packages (from matplotlib<4->mlflow) (10.4.0)\n",
      "Requirement already satisfied: pyparsing>=2.3.1 in /opt/conda/envs/mlflow-env/lib/python3.9/site-packages (from matplotlib<4->mlflow) (3.1.4)\n",
      "Requirement already satisfied: python-dateutil>=2.7 in /opt/conda/envs/mlflow-env/lib/python3.9/site-packages (from matplotlib<4->mlflow) (2.9.0.post0)\n",
      "Requirement already satisfied: importlib-resources>=3.2.0 in /opt/conda/envs/mlflow-env/lib/python3.9/site-packages (from matplotlib<4->mlflow) (6.4.4)\n",
      "Requirement already satisfied: pytz>=2020.1 in /opt/conda/envs/mlflow-env/lib/python3.9/site-packages (from pandas<3->mlflow) (2024.1)\n",
      "Requirement already satisfied: tzdata>=2022.7 in /opt/conda/envs/mlflow-env/lib/python3.9/site-packages (from pandas<3->mlflow) (2024.1)\n",
      "Requirement already satisfied: joblib>=1.2.0 in /opt/conda/envs/mlflow-env/lib/python3.9/site-packages (from scikit-learn<2->mlflow) (1.4.2)\n",
      "Requirement already satisfied: threadpoolctl>=3.1.0 in /opt/conda/envs/mlflow-env/lib/python3.9/site-packages (from scikit-learn<2->mlflow) (3.5.0)\n",
      "Requirement already satisfied: greenlet!=0.4.17 in /opt/conda/envs/mlflow-env/lib/python3.9/site-packages (from sqlalchemy<3,>=1.4.0->mlflow) (3.0.3)\n",
      "Requirement already satisfied: google-auth~=2.0 in /opt/conda/envs/mlflow-env/lib/python3.9/site-packages (from databricks-sdk<1,>=0.20.0->mlflow-skinny==2.16.0->mlflow) (2.34.0)\n",
      "Requirement already satisfied: gitdb<5,>=4.0.1 in /opt/conda/envs/mlflow-env/lib/python3.9/site-packages (from gitpython<4,>=3.1.9->mlflow-skinny==2.16.0->mlflow) (4.0.11)\n",
      "Requirement already satisfied: zipp>=0.5 in /opt/conda/envs/mlflow-env/lib/python3.9/site-packages (from importlib-metadata!=4.7.0,<9,>=3.7.0->mlflow-skinny==2.16.0->mlflow) (3.20.1)\n",
      "Requirement already satisfied: deprecated>=1.2.6 in /opt/conda/envs/mlflow-env/lib/python3.9/site-packages (from opentelemetry-api<3,>=1.9.0->mlflow-skinny==2.16.0->mlflow) (1.2.14)\n",
      "Requirement already satisfied: opentelemetry-semantic-conventions==0.48b0 in /opt/conda/envs/mlflow-env/lib/python3.9/site-packages (from opentelemetry-sdk<3,>=1.9.0->mlflow-skinny==2.16.0->mlflow) (0.48b0)\n",
      "Requirement already satisfied: six>=1.5 in /opt/conda/envs/mlflow-env/lib/python3.9/site-packages (from python-dateutil>=2.7->matplotlib<4->mlflow) (1.16.0)\n",
      "Requirement already satisfied: charset-normalizer<4,>=2 in /opt/conda/envs/mlflow-env/lib/python3.9/site-packages (from requests<3,>=2.17.3->mlflow-skinny==2.16.0->mlflow) (3.3.2)\n",
      "Requirement already satisfied: idna<4,>=2.5 in /opt/conda/envs/mlflow-env/lib/python3.9/site-packages (from requests<3,>=2.17.3->mlflow-skinny==2.16.0->mlflow) (3.8)\n",
      "Requirement already satisfied: certifi>=2017.4.17 in /opt/conda/envs/mlflow-env/lib/python3.9/site-packages (from requests<3,>=2.17.3->mlflow-skinny==2.16.0->mlflow) (2024.8.30)\n",
      "Requirement already satisfied: wrapt<2,>=1.10 in /opt/conda/envs/mlflow-env/lib/python3.9/site-packages (from deprecated>=1.2.6->opentelemetry-api<3,>=1.9.0->mlflow-skinny==2.16.0->mlflow) (1.16.0)\n",
      "Requirement already satisfied: smmap<6,>=3.0.1 in /opt/conda/envs/mlflow-env/lib/python3.9/site-packages (from gitdb<5,>=4.0.1->gitpython<4,>=3.1.9->mlflow-skinny==2.16.0->mlflow) (5.0.1)\n",
      "Requirement already satisfied: pyasn1-modules>=0.2.1 in /opt/conda/envs/mlflow-env/lib/python3.9/site-packages (from google-auth~=2.0->databricks-sdk<1,>=0.20.0->mlflow-skinny==2.16.0->mlflow) (0.4.0)\n",
      "Requirement already satisfied: rsa<5,>=3.1.4 in /opt/conda/envs/mlflow-env/lib/python3.9/site-packages (from google-auth~=2.0->databricks-sdk<1,>=0.20.0->mlflow-skinny==2.16.0->mlflow) (4.9)\n",
      "Requirement already satisfied: pyasn1<0.7.0,>=0.4.6 in /opt/conda/envs/mlflow-env/lib/python3.9/site-packages (from pyasn1-modules>=0.2.1->google-auth~=2.0->databricks-sdk<1,>=0.20.0->mlflow-skinny==2.16.0->mlflow) (0.6.0)\n",
      "Note: you may need to restart the kernel to use updated packages.\n"
     ]
    }
   ],
   "source": [
    "pip install --upgrade mlflow\n"
   ]
  },
  {
   "cell_type": "code",
   "execution_count": 6,
   "metadata": {},
   "outputs": [
    {
     "name": "stdout",
     "output_type": "stream",
     "text": [
      "['__class__', '__delattr__', '__dict__', '__dir__', '__doc__', '__eq__', '__format__', '__ge__', '__getattribute__', '__gt__', '__hash__', '__init__', '__init_subclass__', '__le__', '__lt__', '__module__', '__ne__', '__new__', '__reduce__', '__reduce_ex__', '__repr__', '__setattr__', '__sizeof__', '__str__', '__subclasshook__', '__weakref__', '_check_artifact_file_string', '_create_model_version', '_get_registry_client', '_log_artifact_async_helper', '_log_artifact_helper', '_read_from_file', '_record_logged_model', '_registry_uri', '_start_tracked_trace', '_tracking_client', '_upload_ended_trace_info', '_upload_trace_data', '_upload_trace_spans_as_tag', 'copy_model_version', 'create_experiment', 'create_model_version', 'create_registered_model', 'create_run', 'delete_experiment', 'delete_model_version', 'delete_model_version_tag', 'delete_registered_model', 'delete_registered_model_alias', 'delete_registered_model_tag', 'delete_run', 'delete_tag', 'delete_trace_tag', 'delete_traces', 'download_artifacts', 'end_span', 'end_trace', 'get_experiment', 'get_experiment_by_name', 'get_latest_versions', 'get_metric_history', 'get_model_version', 'get_model_version_by_alias', 'get_model_version_download_uri', 'get_model_version_stages', 'get_parent_run', 'get_registered_model', 'get_run', 'get_trace', 'list_artifacts', 'load_table', 'log_artifact', 'log_artifacts', 'log_batch', 'log_dict', 'log_figure', 'log_image', 'log_inputs', 'log_metric', 'log_param', 'log_table', 'log_text', 'rename_experiment', 'rename_registered_model', 'restore_experiment', 'restore_run', 'search_experiments', 'search_model_versions', 'search_registered_models', 'search_runs', 'search_traces', 'set_experiment_tag', 'set_model_version_tag', 'set_registered_model_alias', 'set_registered_model_tag', 'set_tag', 'set_terminated', 'set_trace_tag', 'start_span', 'start_trace', 'tracking_uri', 'transition_model_version_stage', 'update_model_version', 'update_registered_model', 'update_run']\n"
     ]
    }
   ],
   "source": [
    "from mlflow.tracking import MlflowClient\n",
    "\n",
    "client = MlflowClient()\n",
    "print(dir(client))\n"
   ]
  },
  {
   "cell_type": "code",
   "execution_count": 7,
   "metadata": {},
   "outputs": [
    {
     "name": "stdout",
     "output_type": "stream",
     "text": [
      "Experiment ID: 0, Name: Default\n"
     ]
    }
   ],
   "source": [
    "from mlflow.tracking import MlflowClient\n",
    "\n",
    "# Create an instance of MlflowClient\n",
    "client = MlflowClient()\n",
    "\n",
    "# Search for all experiments\n",
    "experiments = client.search_experiments()\n",
    "\n",
    "# Print details of each experiment\n",
    "for experiment in experiments:\n",
    "    print(f\"Experiment ID: {experiment.experiment_id}, Name: {experiment.name}\")\n"
   ]
  },
  {
   "cell_type": "markdown",
   "metadata": {},
   "source": [
    "Creating an experiment and logging a new run"
   ]
  },
  {
   "cell_type": "code",
   "execution_count": 8,
   "metadata": {},
   "outputs": [
    {
     "name": "stdout",
     "output_type": "stream",
     "text": [
      "1.5.1\n"
     ]
    }
   ],
   "source": [
    "import sklearn\n",
    "print(sklearn.__version__)\n"
   ]
  },
  {
   "cell_type": "code",
   "execution_count": 9,
   "metadata": {},
   "outputs": [
    {
     "name": "stdout",
     "output_type": "stream",
     "text": [
      "Requirement already satisfied: scikit-learn in /opt/conda/envs/mlflow-env/lib/python3.9/site-packages (1.5.1)\n",
      "Requirement already satisfied: numpy>=1.19.5 in /opt/conda/envs/mlflow-env/lib/python3.9/site-packages (from scikit-learn) (2.0.2)\n",
      "Requirement already satisfied: scipy>=1.6.0 in /opt/conda/envs/mlflow-env/lib/python3.9/site-packages (from scikit-learn) (1.13.1)\n",
      "Requirement already satisfied: joblib>=1.2.0 in /opt/conda/envs/mlflow-env/lib/python3.9/site-packages (from scikit-learn) (1.4.2)\n",
      "Requirement already satisfied: threadpoolctl>=3.1.0 in /opt/conda/envs/mlflow-env/lib/python3.9/site-packages (from scikit-learn) (3.5.0)\n",
      "Note: you may need to restart the kernel to use updated packages.\n"
     ]
    }
   ],
   "source": [
    "pip install --upgrade scikit-learn\n"
   ]
  },
  {
   "cell_type": "code",
   "execution_count": 10,
   "metadata": {},
   "outputs": [
    {
     "name": "stdout",
     "output_type": "stream",
     "text": [
      "Requirement already satisfied: scipy in /opt/conda/envs/mlflow-env/lib/python3.9/site-packages (1.13.1)\n",
      "Requirement already satisfied: numpy in /opt/conda/envs/mlflow-env/lib/python3.9/site-packages (2.0.2)\n",
      "Note: you may need to restart the kernel to use updated packages.\n"
     ]
    }
   ],
   "source": [
    "pip install --upgrade scipy numpy\n"
   ]
  },
  {
   "cell_type": "code",
   "execution_count": 11,
   "metadata": {},
   "outputs": [
    {
     "name": "stdout",
     "output_type": "stream",
     "text": [
      "Model accuracy: 0.97\n"
     ]
    }
   ],
   "source": [
    "from sklearn.linear_model import LogisticRegression\n",
    "from sklearn.datasets import load_iris\n",
    "from sklearn.metrics import accuracy_score\n",
    "\n",
    "# Load the iris dataset\n",
    "data = load_iris()\n",
    "X, y = data.data, data.target\n",
    "\n",
    "# Train a simple Logistic Regression model\n",
    "model = LogisticRegression(max_iter=200)\n",
    "model.fit(X, y)\n",
    "\n",
    "# Predict on the same data\n",
    "predictions = model.predict(X)\n",
    "\n",
    "# Print the accuracy\n",
    "accuracy = accuracy_score(y, predictions)\n",
    "print(f\"Model accuracy: {accuracy:.2f}\")\n"
   ]
  },
  {
   "cell_type": "code",
   "execution_count": 12,
   "metadata": {},
   "outputs": [
    {
     "name": "stderr",
     "output_type": "stream",
     "text": [
      "2024/09/06 15:11:01 INFO mlflow.tracking.fluent: Experiment with name 'my-experiment-1' does not exist. Creating a new experiment.\n",
      "2024/09/06 15:11:03 WARNING mlflow.models.model: Model logged without a signature and input example. Please set `input_example` parameter when logging the model to auto infer the model signature.\n"
     ]
    },
    {
     "name": "stdout",
     "output_type": "stream",
     "text": [
      "default artifacts URI: 'file:///workspaces/CVT--MLOps/running%20mlflow-examples/mlruns/295805651491361932/00d38f8f394b47b2bbf41b6295ab6a6f/artifacts'\n"
     ]
    }
   ],
   "source": [
    "from sklearn.linear_model import LogisticRegression\n",
    "from sklearn.datasets import load_iris\n",
    "from sklearn.metrics import accuracy_score\n",
    "\n",
    "mlflow.set_experiment(\"my-experiment-1\")\n",
    "\n",
    "with mlflow.start_run():\n",
    "\n",
    "    X, y = load_iris(return_X_y=True)\n",
    "\n",
    "    params = {\"C\": 0.1, \"random_state\": 42}\n",
    "    mlflow.log_params(params)\n",
    "\n",
    "    lr = LogisticRegression(**params).fit(X, y)\n",
    "    y_pred = lr.predict(X)\n",
    "    mlflow.log_metric(\"accuracy\", accuracy_score(y, y_pred))\n",
    "\n",
    "    mlflow.sklearn.log_model(lr, artifact_path=\"models\")\n",
    "    print(f\"default artifacts URI: '{mlflow.get_artifact_uri()}'\")"
   ]
  },
  {
   "cell_type": "code",
   "execution_count": null,
   "metadata": {},
   "outputs": [],
   "source": []
  }
 ],
 "metadata": {
  "kernelspec": {
   "display_name": "mlflow-env",
   "language": "python",
   "name": "python3"
  },
  "language_info": {
   "codemirror_mode": {
    "name": "ipython",
    "version": 3
   },
   "file_extension": ".py",
   "mimetype": "text/x-python",
   "name": "python",
   "nbconvert_exporter": "python",
   "pygments_lexer": "ipython3",
   "version": "3.9.19"
  }
 },
 "nbformat": 4,
 "nbformat_minor": 2
}
